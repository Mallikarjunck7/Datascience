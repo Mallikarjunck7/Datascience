{
 "cells": [
  {
   "cell_type": "code",
   "execution_count": 2,
   "id": "d6dcb52b",
   "metadata": {},
   "outputs": [
    {
     "data": {
      "text/plain": [
       "2"
      ]
     },
     "execution_count": 2,
     "metadata": {},
     "output_type": "execute_result"
    }
   ],
   "source": [
    "1+1"
   ]
  },
  {
   "cell_type": "code",
   "execution_count": null,
   "id": "f3821e09",
   "metadata": {},
   "outputs": [],
   "source": [
    "jjgjg\n",
    "gkgbkkkb"
   ]
  },
  {
   "cell_type": "code",
   "execution_count": null,
   "id": "cca896f6",
   "metadata": {},
   "outputs": [],
   "source": [
    "fkfkkfk"
   ]
  },
  {
   "cell_type": "code",
   "execution_count": null,
   "id": "9b846d7c",
   "metadata": {},
   "outputs": [],
   "source": [
    "fnnng"
   ]
  },
  {
   "cell_type": "code",
   "execution_count": null,
   "id": "07609d70",
   "metadata": {},
   "outputs": [],
   "source": []
  }
 ],
 "metadata": {
  "kernelspec": {
   "display_name": "Python 3 (ipykernel)",
   "language": "python",
   "name": "python3"
  },
  "language_info": {
   "codemirror_mode": {
    "name": "ipython",
    "version": 3
   },
   "file_extension": ".py",
   "mimetype": "text/x-python",
   "name": "python",
   "nbconvert_exporter": "python",
   "pygments_lexer": "ipython3",
   "version": "3.9.12"
  }
 },
 "nbformat": 4,
 "nbformat_minor": 5
}
